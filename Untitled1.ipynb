{
 "cells": [
  {
   "cell_type": "code",
   "execution_count": 1,
   "metadata": {
    "collapsed": true
   },
   "outputs": [],
   "source": [
    "import thinkstats2\n",
    "import nsfg\n",
    "import thinkplot\n",
    "pres = nsfg.ReadFemResp()\n",
    "firstMarriage = pres.fmar1age"
   ]
  },
  {
   "cell_type": "code",
   "execution_count": 2,
   "metadata": {
    "collapsed": false
   },
   "outputs": [
    {
     "data": {
      "text/plain": [
       "9.0       1\n",
       "11.0      2\n",
       "12.0      1\n",
       "13.0      3\n",
       "14.0     18\n",
       "15.0     50\n",
       "16.0    115\n",
       "17.0    173\n",
       "18.0    342\n",
       "19.0    328\n",
       "20.0    353\n",
       "21.0    364\n",
       "22.0    381\n",
       "23.0    359\n",
       "24.0    285\n",
       "25.0    261\n",
       "26.0    233\n",
       "27.0    177\n",
       "28.0    150\n",
       "29.0    129\n",
       "30.0     97\n",
       "31.0     72\n",
       "32.0     52\n",
       "33.0     49\n",
       "34.0     29\n",
       "35.0     35\n",
       "36.0     14\n",
       "37.0     14\n",
       "38.0     10\n",
       "39.0     10\n",
       "40.0      7\n",
       "41.0      6\n",
       "42.0      3\n",
       "43.0      3\n",
       "Name: fmar1age, dtype: int64"
      ]
     },
     "execution_count": 2,
     "metadata": {},
     "output_type": "execute_result"
    }
   ],
   "source": [
    "firstMarriage.value_counts().sort_index()"
   ]
  },
  {
   "cell_type": "code",
   "execution_count": 3,
   "metadata": {
    "collapsed": false
   },
   "outputs": [
    {
     "data": {
      "image/png": "[encoded data removed]",
      "text/plain": [
       "<matplotlib.figure.Figure at 0x597cfd0>"
      ]
     },
     "metadata": {},
     "output_type": "display_data"
    }
   ],
   "source": [
    "firstMarriage_hist = thinkstats2.Hist(firstMarriage)\n",
    "thinkplot.Hist(firstMarriage_hist)\n",
    "thinkplot.Show(xlabel='Age',ylabel='Counts')"
   ]
  },
  {
   "cell_type": "code",
   "execution_count": 4,
   "metadata": {
    "collapsed": false
   },
   "outputs": [
    {
     "data": {
      "text/plain": [
       "0    3517\n",
       "1    3436\n",
       "2     582\n",
       "3      90\n",
       "4      15\n",
       "5       3\n",
       "Name: fmarno, dtype: int64"
      ]
     },
     "execution_count": 4,
     "metadata": {},
     "output_type": "execute_result"
    }
   ],
   "source": [
    "numMarriage = pres.fmarno\n",
    "numMarriage.value_counts().sort_index()"
   ]
  },
  {
   "cell_type": "code",
   "execution_count": 5,
   "metadata": {
    "collapsed": false
   },
   "outputs": [
    {
     "data": {
      "image/png": "[encoded data removed]",
      "text/plain": [
       "<matplotlib.figure.Figure at 0x163ccc88>"
      ]
     },
     "metadata": {},
     "output_type": "display_data"
    }
   ],
   "source": [
    "numMarriage_hist = thinkstats2.Hist(numMarriage)\n",
    "thinkplot.Hist(numMarriage_hist)\n",
    "thinkplot.Show(xlabel='Time of Married',ylabel='Counts')"
   ]
  },
  {
   "cell_type": "code",
   "execution_count": 6,
   "metadata": {
    "collapsed": false
   },
   "outputs": [
    {
     "data": {
      "text/plain": [
       "1      299\n",
       "2      301\n",
       "3      266\n",
       "4      421\n",
       "5      445\n",
       "6      559\n",
       "7      583\n",
       "8      606\n",
       "9      607\n",
       "10     468\n",
       "11     647\n",
       "12     658\n",
       "13     623\n",
       "14    1160\n",
       "Name: totincr, dtype: int64"
      ]
     },
     "execution_count": 6,
     "metadata": {},
     "output_type": "execute_result"
    }
   ],
   "source": [
    "totalIncome = pres.totincr\n",
    "totalIncome.value_counts().sort_index()"
   ]
  },
  {
   "cell_type": "code",
   "execution_count": 7,
   "metadata": {
    "collapsed": false
   },
   "outputs": [
    {
     "data": {
      "image/png": "[encoded data removed]",
      "text/plain": [
       "<matplotlib.figure.Figure at 0x15260ba8>"
      ]
     },
     "metadata": {},
     "output_type": "display_data"
    }
   ],
   "source": [
    "totalIncome_hist = thinkstats2.Hist(totalIncome)\n",
    "thinkplot.Hist(totalIncome_hist)\n",
    "thinkplot.Show(xlabel='Value',ylabel='Total')"
   ]
  },
  {
   "cell_type": "code",
   "execution_count": 8,
   "metadata": {
    "collapsed": true
   },
   "outputs": [],
   "source": [
    "married,neverMarried = pres[pres.fmarno>=1],pres[pres.fmarno==0]\n",
    "married_hist = thinkstats2.Hist(married.totincr, label='Married')\n",
    "neverMarried_hist = thinkstats2.Hist(neverMarried.totincr, label='Never Married')\n",
    "thinkplot.PrePlot(2)\n",
    "thinkplot.Hist(married_hist, align='right', width=0.45)\n",
    "thinkplot.Hist(neverMarried_hist, align='left', width=0.45)\n",
    "thinkplot.Config(xlabel='Value', ylabel='Income')"
   ]
  },
  {
   "cell_type": "code",
   "execution_count": 9,
   "metadata": {
    "collapsed": false
   },
   "outputs": [
    {
     "name": "stdout",
     "output_type": "stream",
     "text": [
      "(\"The Maximum value for respondents' total income is\", 14)\n",
      "(\"The Minimum value for respondents' total income is\", 1)\n",
      "(\"The mean of the respondents' total income is\", 8.816695015046447)\n",
      "(\"The variance respondents' total income is\", 15.279271096058629)\n",
      "(\"The standart deviation of respondents' total income is\", 3.908870821101489)\n"
     ]
    }
   ],
   "source": [
    "print (\"The Maximum value for respondents' total income is\", pres.totincr.max())\n",
    "print (\"The Minimum value for respondents' total income is\", pres.totincr.min())\n",
    "\n",
    "mean = pres.totincr.mean()\n",
    "var = pres.totincr.var()\n",
    "std = pres.totincr.std()\n",
    "\n",
    "print (\"The mean of the respondents' total income is\", mean)\n",
    "print (\"The variance respondents' total income is\", var)\n",
    "print (\"The standart deviation of respondents' total income is\", std)"
   ]
  },
  {
   "cell_type": "code",
   "execution_count": null,
   "metadata": {
    "collapsed": true
   },
   "outputs": [],
   "source": []
  }
 ],
 "metadata": {
  "kernelspec": {
   "display_name": "Python 2",
   "language": "python",
   "name": "python2"
  },
  "language_info": {
   "codemirror_mode": {
    "name": "ipython",
    "version": 2
   },
   "file_extension": ".py",
   "mimetype": "text/x-python",
   "name": "python",
   "nbconvert_exporter": "python",
   "pygments_lexer": "ipython2",
   "version": "2.7.13"
  }
 },
 "nbformat": 4,
 "nbformat_minor": 2
}
